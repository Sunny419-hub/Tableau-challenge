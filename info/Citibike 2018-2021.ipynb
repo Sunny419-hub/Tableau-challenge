{
 "cells": [
  {
   "cell_type": "markdown",
   "metadata": {},
   "source": [
    "### Merging info citi bike system data 2018-2021"
   ]
  },
  {
   "cell_type": "code",
   "execution_count": 1,
   "metadata": {
    "scrolled": true
   },
   "outputs": [],
   "source": [
    "# Dependencies and Setup\n",
    "import glob\n",
    "import zipfile\n",
    "import pandas as pd\n",
    "import os"
   ]
  },
  {
   "cell_type": "code",
   "execution_count": 66,
   "metadata": {},
   "outputs": [
    {
     "name": "stdout",
     "output_type": "stream",
     "text": [
      "                                                   0\n",
      "0  tripduration,\"starttime\",\"stoptime\",\"start sta...\n",
      "1  932,\"2018-01-01 02:06:17.5410\",\"2018-01-01 02:...\n",
      "2  550,\"2018-01-01 12:06:18.0390\",\"2018-01-01 12:...\n",
      "3  510,\"2018-01-01 12:06:56.9780\",\"2018-01-01 12:...\n",
      "4  354,\"2018-01-01 14:53:10.1860\",\"2018-01-01 14:...\n"
     ]
    }
   ],
   "source": [
    "dfs = []\n",
    "for filename in os.listdir(r\"2018-2021\"):\n",
    "    if filename.endswith('.zip'):\n",
    "        zip_file = os.path.join(r\"2018-2021\", filename)\n",
    "        zf = zipfile.ZipFile(zip_file)\n",
    "        dfs += [pd.read_csv(zf.open(f), header=None, sep=\";\", encoding='latin1') for f in zf.namelist()]\n",
    "df = pd.concat(dfs,ignore_index=True)\n",
    "print(df.head())"
   ]
  },
  {
   "cell_type": "code",
   "execution_count": 67,
   "metadata": {},
   "outputs": [
    {
     "name": "stdout",
     "output_type": "stream",
     "text": [
      "                   0                           1                           2   \\\n",
      "0        tripduration                 \"starttime\"                  \"stoptime\"   \n",
      "1                 932  \"2018-01-01 02:06:17.5410\"  \"2018-01-01 02:21:50.0270\"   \n",
      "2                 550  \"2018-01-01 12:06:18.0390\"  \"2018-01-01 12:15:28.4430\"   \n",
      "3                 510  \"2018-01-01 12:06:56.9780\"  \"2018-01-01 12:15:27.8100\"   \n",
      "4                 354  \"2018-01-01 14:53:10.1860\"  \"2018-01-01 14:59:05.0960\"   \n",
      "...               ...                         ...                         ...   \n",
      "1107298          2476  \"2021-01-31 20:16:05.4700\"  \"2021-01-31 20:57:22.0110\"   \n",
      "1107299           147  \"2021-01-31 21:05:05.2090\"  \"2021-01-31 21:07:32.8660\"   \n",
      "1107300           660  \"2021-01-31 21:06:23.5880\"  \"2021-01-31 21:17:23.8420\"   \n",
      "1107301           384  \"2021-01-31 21:16:37.8220\"  \"2021-01-31 21:23:02.1240\"   \n",
      "1107302           356  \"2021-01-31 23:24:50.8810\"  \"2021-01-31 23:30:47.3030\"   \n",
      "\n",
      "                         3                     4                         5   \\\n",
      "0        \"start station id\"  \"start station name\"  \"start station latitude\"   \n",
      "1                      3183      \"Exchange Place\"                40.7162469   \n",
      "2                      3183      \"Exchange Place\"                40.7162469   \n",
      "3                      3183      \"Exchange Place\"                40.7162469   \n",
      "4                      3183      \"Exchange Place\"                40.7162469   \n",
      "...                     ...                   ...                       ...   \n",
      "1107298                3187           \"Warren St\"                40.7211236   \n",
      "1107299                3186       \"Grove St PATH\"         40.71958611647166   \n",
      "1107300                3211          \"Newark Ave\"               40.72152515   \n",
      "1107301                3205   \"JC Medical Center\"         40.71653978099194   \n",
      "1107302                3639          \"Harborside\"                40.7192517   \n",
      "\n",
      "                                6                 7                   8   \\\n",
      "0        \"start station longitude\"  \"end station id\"  \"end station name\"   \n",
      "1                      -74.0334588              3199      \"Newport Pkwy\"   \n",
      "2                      -74.0334588              3199      \"Newport Pkwy\"   \n",
      "3                      -74.0334588              3199      \"Newport Pkwy\"   \n",
      "4                      -74.0334588              3267      \"Morris Canal\"   \n",
      "...                            ...               ...                 ...   \n",
      "1107298               -74.03805095              3483     \"Montgomery St\"   \n",
      "1107299         -74.04311746358871              3187         \"Warren St\"   \n",
      "1107300              -74.046304543              3276  \"Marin Light Rail\"   \n",
      "1107301          -74.0496379137039              3268    \"Lafayette Park\"   \n",
      "1107302                 -74.034234              3186     \"Grove St PATH\"   \n",
      "\n",
      "                             9                        10        11  \\\n",
      "0        \"end station latitude\"  \"end station longitude\"  \"bikeid\"   \n",
      "1                    40.7287448              -74.0321082     31929   \n",
      "2                    40.7287448              -74.0321082     31845   \n",
      "3                    40.7287448              -74.0321082     31708   \n",
      "4              40.7124188237569       -74.03852552175522     31697   \n",
      "...                         ...                      ...       ...   \n",
      "1107298                40.71942                -74.05099     44852   \n",
      "1107299              40.7211236             -74.03805095     46538   \n",
      "1107300       40.71458403535893       -74.04281705617905     44398   \n",
      "1107301       40.71346382669195       -74.06285852193832     41400   \n",
      "1107302       40.71958611647166       -74.04311746358871     43766   \n",
      "\n",
      "                   12            13        14  \n",
      "0          \"usertype\"  \"birth year\"  \"gender\"  \n",
      "1        \"Subscriber\"          1992         1  \n",
      "2        \"Subscriber\"          1969         2  \n",
      "3        \"Subscriber\"          1946         1  \n",
      "4        \"Subscriber\"          1994         1  \n",
      "...               ...           ...       ...  \n",
      "1107298  \"Subscriber\"          1958         1  \n",
      "1107299  \"Subscriber\"          1972         1  \n",
      "1107300  \"Subscriber\"          1987         2  \n",
      "1107301  \"Subscriber\"          1989         1  \n",
      "1107302  \"Subscriber\"          1994         1  \n",
      "\n",
      "[1107303 rows x 15 columns]\n"
     ]
    }
   ],
   "source": [
    "df=df[0].str.split(',', expand=True)\n",
    "print(df)"
   ]
  },
  {
   "cell_type": "code",
   "execution_count": 68,
   "metadata": {},
   "outputs": [
    {
     "name": "stdout",
     "output_type": "stream",
     "text": [
      "0        tripduration                 \"starttime\"                  \"stoptime\"  \\\n",
      "0        tripduration                 \"starttime\"                  \"stoptime\"   \n",
      "1                 932  \"2018-01-01 02:06:17.5410\"  \"2018-01-01 02:21:50.0270\"   \n",
      "2                 550  \"2018-01-01 12:06:18.0390\"  \"2018-01-01 12:15:28.4430\"   \n",
      "3                 510  \"2018-01-01 12:06:56.9780\"  \"2018-01-01 12:15:27.8100\"   \n",
      "4                 354  \"2018-01-01 14:53:10.1860\"  \"2018-01-01 14:59:05.0960\"   \n",
      "...               ...                         ...                         ...   \n",
      "1107298          2476  \"2021-01-31 20:16:05.4700\"  \"2021-01-31 20:57:22.0110\"   \n",
      "1107299           147  \"2021-01-31 21:05:05.2090\"  \"2021-01-31 21:07:32.8660\"   \n",
      "1107300           660  \"2021-01-31 21:06:23.5880\"  \"2021-01-31 21:17:23.8420\"   \n",
      "1107301           384  \"2021-01-31 21:16:37.8220\"  \"2021-01-31 21:23:02.1240\"   \n",
      "1107302           356  \"2021-01-31 23:24:50.8810\"  \"2021-01-31 23:30:47.3030\"   \n",
      "\n",
      "0        \"start station id\"  \"start station name\"  \"start station latitude\"  \\\n",
      "0        \"start station id\"  \"start station name\"  \"start station latitude\"   \n",
      "1                      3183      \"Exchange Place\"                40.7162469   \n",
      "2                      3183      \"Exchange Place\"                40.7162469   \n",
      "3                      3183      \"Exchange Place\"                40.7162469   \n",
      "4                      3183      \"Exchange Place\"                40.7162469   \n",
      "...                     ...                   ...                       ...   \n",
      "1107298                3187           \"Warren St\"                40.7211236   \n",
      "1107299                3186       \"Grove St PATH\"         40.71958611647166   \n",
      "1107300                3211          \"Newark Ave\"               40.72152515   \n",
      "1107301                3205   \"JC Medical Center\"         40.71653978099194   \n",
      "1107302                3639          \"Harborside\"                40.7192517   \n",
      "\n",
      "0        \"start station longitude\"  \"end station id\"  \"end station name\"  \\\n",
      "0        \"start station longitude\"  \"end station id\"  \"end station name\"   \n",
      "1                      -74.0334588              3199      \"Newport Pkwy\"   \n",
      "2                      -74.0334588              3199      \"Newport Pkwy\"   \n",
      "3                      -74.0334588              3199      \"Newport Pkwy\"   \n",
      "4                      -74.0334588              3267      \"Morris Canal\"   \n",
      "...                            ...               ...                 ...   \n",
      "1107298               -74.03805095              3483     \"Montgomery St\"   \n",
      "1107299         -74.04311746358871              3187         \"Warren St\"   \n",
      "1107300              -74.046304543              3276  \"Marin Light Rail\"   \n",
      "1107301          -74.0496379137039              3268    \"Lafayette Park\"   \n",
      "1107302                 -74.034234              3186     \"Grove St PATH\"   \n",
      "\n",
      "0        \"end station latitude\"  \"end station longitude\"  \"bikeid\"  \\\n",
      "0        \"end station latitude\"  \"end station longitude\"  \"bikeid\"   \n",
      "1                    40.7287448              -74.0321082     31929   \n",
      "2                    40.7287448              -74.0321082     31845   \n",
      "3                    40.7287448              -74.0321082     31708   \n",
      "4              40.7124188237569       -74.03852552175522     31697   \n",
      "...                         ...                      ...       ...   \n",
      "1107298                40.71942                -74.05099     44852   \n",
      "1107299              40.7211236             -74.03805095     46538   \n",
      "1107300       40.71458403535893       -74.04281705617905     44398   \n",
      "1107301       40.71346382669195       -74.06285852193832     41400   \n",
      "1107302       40.71958611647166       -74.04311746358871     43766   \n",
      "\n",
      "0          \"usertype\"  \"birth year\"  \"gender\"  \n",
      "0          \"usertype\"  \"birth year\"  \"gender\"  \n",
      "1        \"Subscriber\"          1992         1  \n",
      "2        \"Subscriber\"          1969         2  \n",
      "3        \"Subscriber\"          1946         1  \n",
      "4        \"Subscriber\"          1994         1  \n",
      "...               ...           ...       ...  \n",
      "1107298  \"Subscriber\"          1958         1  \n",
      "1107299  \"Subscriber\"          1972         1  \n",
      "1107300  \"Subscriber\"          1987         2  \n",
      "1107301  \"Subscriber\"          1989         1  \n",
      "1107302  \"Subscriber\"          1994         1  \n",
      "\n",
      "[1107303 rows x 15 columns]\n"
     ]
    }
   ],
   "source": [
    "header_row = 0\n",
    "df.columns = df.iloc[header_row]\n",
    "print(df)"
   ]
  },
  {
   "cell_type": "code",
   "execution_count": 69,
   "metadata": {},
   "outputs": [
    {
     "name": "stdout",
     "output_type": "stream",
     "text": [
      "0       tripduration                 \"starttime\"                  \"stoptime\"  \\\n",
      "1                932  \"2018-01-01 02:06:17.5410\"  \"2018-01-01 02:21:50.0270\"   \n",
      "2                550  \"2018-01-01 12:06:18.0390\"  \"2018-01-01 12:15:28.4430\"   \n",
      "3                510  \"2018-01-01 12:06:56.9780\"  \"2018-01-01 12:15:27.8100\"   \n",
      "4                354  \"2018-01-01 14:53:10.1860\"  \"2018-01-01 14:59:05.0960\"   \n",
      "5                250  \"2018-01-01 17:34:30.1920\"  \"2018-01-01 17:38:40.9840\"   \n",
      "...              ...                         ...                         ...   \n",
      "1107298         2476  \"2021-01-31 20:16:05.4700\"  \"2021-01-31 20:57:22.0110\"   \n",
      "1107299          147  \"2021-01-31 21:05:05.2090\"  \"2021-01-31 21:07:32.8660\"   \n",
      "1107300          660  \"2021-01-31 21:06:23.5880\"  \"2021-01-31 21:17:23.8420\"   \n",
      "1107301          384  \"2021-01-31 21:16:37.8220\"  \"2021-01-31 21:23:02.1240\"   \n",
      "1107302          356  \"2021-01-31 23:24:50.8810\"  \"2021-01-31 23:30:47.3030\"   \n",
      "\n",
      "0       \"start station id\" \"start station name\" \"start station latitude\"  \\\n",
      "1                     3183     \"Exchange Place\"               40.7162469   \n",
      "2                     3183     \"Exchange Place\"               40.7162469   \n",
      "3                     3183     \"Exchange Place\"               40.7162469   \n",
      "4                     3183     \"Exchange Place\"               40.7162469   \n",
      "5                     3183     \"Exchange Place\"               40.7162469   \n",
      "...                    ...                  ...                      ...   \n",
      "1107298               3187          \"Warren St\"               40.7211236   \n",
      "1107299               3186      \"Grove St PATH\"        40.71958611647166   \n",
      "1107300               3211         \"Newark Ave\"              40.72152515   \n",
      "1107301               3205  \"JC Medical Center\"        40.71653978099194   \n",
      "1107302               3639         \"Harborside\"               40.7192517   \n",
      "\n",
      "0       \"start station longitude\" \"end station id\"  \"end station name\"  \\\n",
      "1                     -74.0334588             3199      \"Newport Pkwy\"   \n",
      "2                     -74.0334588             3199      \"Newport Pkwy\"   \n",
      "3                     -74.0334588             3199      \"Newport Pkwy\"   \n",
      "4                     -74.0334588             3267      \"Morris Canal\"   \n",
      "5                     -74.0334588             3639        \"Harborside\"   \n",
      "...                           ...              ...                 ...   \n",
      "1107298              -74.03805095             3483     \"Montgomery St\"   \n",
      "1107299        -74.04311746358871             3187         \"Warren St\"   \n",
      "1107300             -74.046304543             3276  \"Marin Light Rail\"   \n",
      "1107301         -74.0496379137039             3268    \"Lafayette Park\"   \n",
      "1107302                -74.034234             3186     \"Grove St PATH\"   \n",
      "\n",
      "0       \"end station latitude\" \"end station longitude\" \"bikeid\"    \"usertype\"  \\\n",
      "1                   40.7287448             -74.0321082    31929  \"Subscriber\"   \n",
      "2                   40.7287448             -74.0321082    31845  \"Subscriber\"   \n",
      "3                   40.7287448             -74.0321082    31708  \"Subscriber\"   \n",
      "4             40.7124188237569      -74.03852552175522    31697  \"Subscriber\"   \n",
      "5                   40.7192517              -74.034234    31861  \"Subscriber\"   \n",
      "...                        ...                     ...      ...           ...   \n",
      "1107298               40.71942               -74.05099    44852  \"Subscriber\"   \n",
      "1107299             40.7211236            -74.03805095    46538  \"Subscriber\"   \n",
      "1107300      40.71458403535893      -74.04281705617905    44398  \"Subscriber\"   \n",
      "1107301      40.71346382669195      -74.06285852193832    41400  \"Subscriber\"   \n",
      "1107302      40.71958611647166      -74.04311746358871    43766  \"Subscriber\"   \n",
      "\n",
      "0       \"birth year\" \"gender\"  \n",
      "1               1992        1  \n",
      "2               1969        2  \n",
      "3               1946        1  \n",
      "4               1994        1  \n",
      "5               1991        1  \n",
      "...              ...      ...  \n",
      "1107298         1958        1  \n",
      "1107299         1972        1  \n",
      "1107300         1987        2  \n",
      "1107301         1989        1  \n",
      "1107302         1994        1  \n",
      "\n",
      "[1107302 rows x 15 columns]\n"
     ]
    }
   ],
   "source": [
    "df = df.drop(header_row)\n",
    "print(df)"
   ]
  },
  {
   "cell_type": "code",
   "execution_count": 70,
   "metadata": {},
   "outputs": [
    {
     "name": "stdout",
     "output_type": "stream",
     "text": [
      "0       tripduration                 \"starttime\"                  \"stoptime\"  \\\n",
      "0                932  \"2018-01-01 02:06:17.5410\"  \"2018-01-01 02:21:50.0270\"   \n",
      "1                550  \"2018-01-01 12:06:18.0390\"  \"2018-01-01 12:15:28.4430\"   \n",
      "2                510  \"2018-01-01 12:06:56.9780\"  \"2018-01-01 12:15:27.8100\"   \n",
      "3                354  \"2018-01-01 14:53:10.1860\"  \"2018-01-01 14:59:05.0960\"   \n",
      "4                250  \"2018-01-01 17:34:30.1920\"  \"2018-01-01 17:38:40.9840\"   \n",
      "...              ...                         ...                         ...   \n",
      "1107297         2476  \"2021-01-31 20:16:05.4700\"  \"2021-01-31 20:57:22.0110\"   \n",
      "1107298          147  \"2021-01-31 21:05:05.2090\"  \"2021-01-31 21:07:32.8660\"   \n",
      "1107299          660  \"2021-01-31 21:06:23.5880\"  \"2021-01-31 21:17:23.8420\"   \n",
      "1107300          384  \"2021-01-31 21:16:37.8220\"  \"2021-01-31 21:23:02.1240\"   \n",
      "1107301          356  \"2021-01-31 23:24:50.8810\"  \"2021-01-31 23:30:47.3030\"   \n",
      "\n",
      "0       \"start station id\" \"start station name\" \"start station latitude\"  \\\n",
      "0                     3183     \"Exchange Place\"               40.7162469   \n",
      "1                     3183     \"Exchange Place\"               40.7162469   \n",
      "2                     3183     \"Exchange Place\"               40.7162469   \n",
      "3                     3183     \"Exchange Place\"               40.7162469   \n",
      "4                     3183     \"Exchange Place\"               40.7162469   \n",
      "...                    ...                  ...                      ...   \n",
      "1107297               3187          \"Warren St\"               40.7211236   \n",
      "1107298               3186      \"Grove St PATH\"        40.71958611647166   \n",
      "1107299               3211         \"Newark Ave\"              40.72152515   \n",
      "1107300               3205  \"JC Medical Center\"        40.71653978099194   \n",
      "1107301               3639         \"Harborside\"               40.7192517   \n",
      "\n",
      "0       \"start station longitude\" \"end station id\"  \"end station name\"  \\\n",
      "0                     -74.0334588             3199      \"Newport Pkwy\"   \n",
      "1                     -74.0334588             3199      \"Newport Pkwy\"   \n",
      "2                     -74.0334588             3199      \"Newport Pkwy\"   \n",
      "3                     -74.0334588             3267      \"Morris Canal\"   \n",
      "4                     -74.0334588             3639        \"Harborside\"   \n",
      "...                           ...              ...                 ...   \n",
      "1107297              -74.03805095             3483     \"Montgomery St\"   \n",
      "1107298        -74.04311746358871             3187         \"Warren St\"   \n",
      "1107299             -74.046304543             3276  \"Marin Light Rail\"   \n",
      "1107300         -74.0496379137039             3268    \"Lafayette Park\"   \n",
      "1107301                -74.034234             3186     \"Grove St PATH\"   \n",
      "\n",
      "0       \"end station latitude\" \"end station longitude\" \"bikeid\"    \"usertype\"  \\\n",
      "0                   40.7287448             -74.0321082    31929  \"Subscriber\"   \n",
      "1                   40.7287448             -74.0321082    31845  \"Subscriber\"   \n",
      "2                   40.7287448             -74.0321082    31708  \"Subscriber\"   \n",
      "3             40.7124188237569      -74.03852552175522    31697  \"Subscriber\"   \n",
      "4                   40.7192517              -74.034234    31861  \"Subscriber\"   \n",
      "...                        ...                     ...      ...           ...   \n",
      "1107297               40.71942               -74.05099    44852  \"Subscriber\"   \n",
      "1107298             40.7211236            -74.03805095    46538  \"Subscriber\"   \n",
      "1107299      40.71458403535893      -74.04281705617905    44398  \"Subscriber\"   \n",
      "1107300      40.71346382669195      -74.06285852193832    41400  \"Subscriber\"   \n",
      "1107301      40.71958611647166      -74.04311746358871    43766  \"Subscriber\"   \n",
      "\n",
      "0       \"birth year\" \"gender\"  \n",
      "0               1992        1  \n",
      "1               1969        2  \n",
      "2               1946        1  \n",
      "3               1994        1  \n",
      "4               1991        1  \n",
      "...              ...      ...  \n",
      "1107297         1958        1  \n",
      "1107298         1972        1  \n",
      "1107299         1987        2  \n",
      "1107300         1989        1  \n",
      "1107301         1994        1  \n",
      "\n",
      "[1107302 rows x 15 columns]\n"
     ]
    }
   ],
   "source": [
    "df = df.reset_index(drop=True)\n",
    "print(df)"
   ]
  },
  {
   "cell_type": "code",
   "execution_count": 71,
   "metadata": {},
   "outputs": [
    {
     "data": {
      "text/plain": [
       "array(['tripduration', '\"starttime\"', '\"stoptime\"', '\"start station id\"',\n",
       "       '\"start station name\"', '\"start station latitude\"',\n",
       "       '\"start station longitude\"', '\"end station id\"',\n",
       "       '\"end station name\"', '\"end station latitude\"',\n",
       "       '\"end station longitude\"', '\"bikeid\"', '\"usertype\"',\n",
       "       '\"birth year\"', '\"gender\"'], dtype=object)"
      ]
     },
     "execution_count": 71,
     "metadata": {},
     "output_type": "execute_result"
    }
   ],
   "source": [
    "df.columns.values"
   ]
  },
  {
   "cell_type": "code",
   "execution_count": 72,
   "metadata": {},
   "outputs": [
    {
     "data": {
      "text/plain": [
       "0\n",
       "tripduration                 object\n",
       "\"starttime\"                  object\n",
       "\"stoptime\"                   object\n",
       "\"start station id\"           object\n",
       "\"start station name\"         object\n",
       "\"start station latitude\"     object\n",
       "\"start station longitude\"    object\n",
       "\"end station id\"             object\n",
       "\"end station name\"           object\n",
       "\"end station latitude\"       object\n",
       "\"end station longitude\"      object\n",
       "\"bikeid\"                     object\n",
       "\"usertype\"                   object\n",
       "\"birth year\"                 object\n",
       "\"gender\"                     object\n",
       "dtype: object"
      ]
     },
     "execution_count": 72,
     "metadata": {},
     "output_type": "execute_result"
    }
   ],
   "source": [
    "df.dtypes"
   ]
  },
  {
   "cell_type": "code",
   "execution_count": 73,
   "metadata": {},
   "outputs": [
    {
     "data": {
      "text/plain": [
       "0\n",
       "tripduration                 1\n",
       "\"starttime\"                  1\n",
       "\"stoptime\"                   1\n",
       "\"start station id\"           1\n",
       "\"start station name\"         1\n",
       "\"start station latitude\"     1\n",
       "\"start station longitude\"    1\n",
       "\"end station id\"             1\n",
       "\"end station name\"           1\n",
       "\"end station latitude\"       1\n",
       "\"end station longitude\"      1\n",
       "\"bikeid\"                     1\n",
       "\"usertype\"                   1\n",
       "\"birth year\"                 1\n",
       "\"gender\"                     1\n",
       "dtype: int64"
      ]
     },
     "execution_count": 73,
     "metadata": {},
     "output_type": "execute_result"
    }
   ],
   "source": [
    "#missing_values\n",
    "missing_values = df.isnull().sum()\n",
    "missing_values"
   ]
  },
  {
   "cell_type": "code",
   "execution_count": 85,
   "metadata": {},
   "outputs": [
    {
     "name": "stdout",
     "output_type": "stream",
     "text": [
      "0       tripduration                   starttime                    stoptime  \\\n",
      "0                932  \"2018-01-01 02:06:17.5410\"  \"2018-01-01 02:21:50.0270\"   \n",
      "1                550  \"2018-01-01 12:06:18.0390\"  \"2018-01-01 12:15:28.4430\"   \n",
      "2                510  \"2018-01-01 12:06:56.9780\"  \"2018-01-01 12:15:27.8100\"   \n",
      "3                354  \"2018-01-01 14:53:10.1860\"  \"2018-01-01 14:59:05.0960\"   \n",
      "4                250  \"2018-01-01 17:34:30.1920\"  \"2018-01-01 17:38:40.9840\"   \n",
      "...              ...                         ...                         ...   \n",
      "1107297         2476  \"2021-01-31 20:16:05.4700\"  \"2021-01-31 20:57:22.0110\"   \n",
      "1107298          147  \"2021-01-31 21:05:05.2090\"  \"2021-01-31 21:07:32.8660\"   \n",
      "1107299          660  \"2021-01-31 21:06:23.5880\"  \"2021-01-31 21:17:23.8420\"   \n",
      "1107300          384  \"2021-01-31 21:16:37.8220\"  \"2021-01-31 21:23:02.1240\"   \n",
      "1107301          356  \"2021-01-31 23:24:50.8810\"  \"2021-01-31 23:30:47.3030\"   \n",
      "\n",
      "0       start station id   start station name start station latitude  \\\n",
      "0                   3183     \"Exchange Place\"             40.7162469   \n",
      "1                   3183     \"Exchange Place\"             40.7162469   \n",
      "2                   3183     \"Exchange Place\"             40.7162469   \n",
      "3                   3183     \"Exchange Place\"             40.7162469   \n",
      "4                   3183     \"Exchange Place\"             40.7162469   \n",
      "...                  ...                  ...                    ...   \n",
      "1107297             3187          \"Warren St\"             40.7211236   \n",
      "1107298             3186      \"Grove St PATH\"      40.71958611647166   \n",
      "1107299             3211         \"Newark Ave\"            40.72152515   \n",
      "1107300             3205  \"JC Medical Center\"      40.71653978099194   \n",
      "1107301             3639         \"Harborside\"             40.7192517   \n",
      "\n",
      "0       start station longitude end station id    end station name  \\\n",
      "0                   -74.0334588           3199      \"Newport Pkwy\"   \n",
      "1                   -74.0334588           3199      \"Newport Pkwy\"   \n",
      "2                   -74.0334588           3199      \"Newport Pkwy\"   \n",
      "3                   -74.0334588           3267      \"Morris Canal\"   \n",
      "4                   -74.0334588           3639        \"Harborside\"   \n",
      "...                         ...            ...                 ...   \n",
      "1107297            -74.03805095           3483     \"Montgomery St\"   \n",
      "1107298      -74.04311746358871           3187         \"Warren St\"   \n",
      "1107299           -74.046304543           3276  \"Marin Light Rail\"   \n",
      "1107300       -74.0496379137039           3268    \"Lafayette Park\"   \n",
      "1107301              -74.034234           3186     \"Grove St PATH\"   \n",
      "\n",
      "0       end station latitude end station longitude bikeid      usertype  \\\n",
      "0                 40.7287448           -74.0321082  31929  \"Subscriber\"   \n",
      "1                 40.7287448           -74.0321082  31845  \"Subscriber\"   \n",
      "2                 40.7287448           -74.0321082  31708  \"Subscriber\"   \n",
      "3           40.7124188237569    -74.03852552175522  31697  \"Subscriber\"   \n",
      "4                 40.7192517            -74.034234  31861  \"Subscriber\"   \n",
      "...                      ...                   ...    ...           ...   \n",
      "1107297             40.71942             -74.05099  44852  \"Subscriber\"   \n",
      "1107298           40.7211236          -74.03805095  46538  \"Subscriber\"   \n",
      "1107299    40.71458403535893    -74.04281705617905  44398  \"Subscriber\"   \n",
      "1107300    40.71346382669195    -74.06285852193832  41400  \"Subscriber\"   \n",
      "1107301    40.71958611647166    -74.04311746358871  43766  \"Subscriber\"   \n",
      "\n",
      "0       birth year gender  \n",
      "0             1992      1  \n",
      "1             1969      2  \n",
      "2             1946      1  \n",
      "3             1994      1  \n",
      "4             1991      1  \n",
      "...            ...    ...  \n",
      "1107297       1958      1  \n",
      "1107298       1972      1  \n",
      "1107299       1987      2  \n",
      "1107300       1989      1  \n",
      "1107301       1994      1  \n",
      "\n",
      "[1107302 rows x 15 columns]\n"
     ]
    }
   ],
   "source": [
    "columnas=['tripduration', \"starttime\", \"stoptime\", \"start station id\",\n",
    "       \"start station name\", \"start station latitude\",\n",
    "       \"start station longitude\", \"end station id\",\n",
    "       \"end station name\", \"end station latitude\",\n",
    "       \"end station longitude\", \"bikeid\", \"usertype\",\"birth year\", \"gender\"]\n",
    "\n",
    "df[columnas]= df[columnas].replace({'\"',''})\n",
    "print(df)"
   ]
  },
  {
   "cell_type": "code",
   "execution_count": 87,
   "metadata": {},
   "outputs": [
    {
     "name": "stdout",
     "output_type": "stream",
     "text": [
      "0       tripduration                 starttime                  stoptime  \\\n",
      "0                932  2018-01-01 02:06:17.5410  2018-01-01 02:21:50.0270   \n",
      "1                550  2018-01-01 12:06:18.0390  2018-01-01 12:15:28.4430   \n",
      "2                510  2018-01-01 12:06:56.9780  2018-01-01 12:15:27.8100   \n",
      "3                354  2018-01-01 14:53:10.1860  2018-01-01 14:59:05.0960   \n",
      "4                250  2018-01-01 17:34:30.1920  2018-01-01 17:38:40.9840   \n",
      "...              ...                       ...                       ...   \n",
      "1107297         2476  2021-01-31 20:16:05.4700  2021-01-31 20:57:22.0110   \n",
      "1107298          147  2021-01-31 21:05:05.2090  2021-01-31 21:07:32.8660   \n",
      "1107299          660  2021-01-31 21:06:23.5880  2021-01-31 21:17:23.8420   \n",
      "1107300          384  2021-01-31 21:16:37.8220  2021-01-31 21:23:02.1240   \n",
      "1107301          356  2021-01-31 23:24:50.8810  2021-01-31 23:30:47.3030   \n",
      "\n",
      "0       start station id start station name start station latitude  \\\n",
      "0                   3183     Exchange Place             40.7162469   \n",
      "1                   3183     Exchange Place             40.7162469   \n",
      "2                   3183     Exchange Place             40.7162469   \n",
      "3                   3183     Exchange Place             40.7162469   \n",
      "4                   3183     Exchange Place             40.7162469   \n",
      "...                  ...                ...                    ...   \n",
      "1107297             3187          Warren St             40.7211236   \n",
      "1107298             3186      Grove St PATH      40.71958611647166   \n",
      "1107299             3211         Newark Ave            40.72152515   \n",
      "1107300             3205  JC Medical Center      40.71653978099194   \n",
      "1107301             3639         Harborside             40.7192517   \n",
      "\n",
      "0       start station longitude end station id  end station name  \\\n",
      "0                   -74.0334588           3199      Newport Pkwy   \n",
      "1                   -74.0334588           3199      Newport Pkwy   \n",
      "2                   -74.0334588           3199      Newport Pkwy   \n",
      "3                   -74.0334588           3267      Morris Canal   \n",
      "4                   -74.0334588           3639        Harborside   \n",
      "...                         ...            ...               ...   \n",
      "1107297            -74.03805095           3483     Montgomery St   \n",
      "1107298      -74.04311746358871           3187         Warren St   \n",
      "1107299           -74.046304543           3276  Marin Light Rail   \n",
      "1107300       -74.0496379137039           3268    Lafayette Park   \n",
      "1107301              -74.034234           3186     Grove St PATH   \n",
      "\n",
      "0       end station latitude end station longitude bikeid    usertype  \\\n",
      "0                 40.7287448           -74.0321082  31929  Subscriber   \n",
      "1                 40.7287448           -74.0321082  31845  Subscriber   \n",
      "2                 40.7287448           -74.0321082  31708  Subscriber   \n",
      "3           40.7124188237569    -74.03852552175522  31697  Subscriber   \n",
      "4                 40.7192517            -74.034234  31861  Subscriber   \n",
      "...                      ...                   ...    ...         ...   \n",
      "1107297             40.71942             -74.05099  44852  Subscriber   \n",
      "1107298           40.7211236          -74.03805095  46538  Subscriber   \n",
      "1107299    40.71458403535893    -74.04281705617905  44398  Subscriber   \n",
      "1107300    40.71346382669195    -74.06285852193832  41400  Subscriber   \n",
      "1107301    40.71958611647166    -74.04311746358871  43766  Subscriber   \n",
      "\n",
      "0       birth year gender  \n",
      "0             1992      1  \n",
      "1             1969      2  \n",
      "2             1946      1  \n",
      "3             1994      1  \n",
      "4             1991      1  \n",
      "...            ...    ...  \n",
      "1107297       1958      1  \n",
      "1107298       1972      1  \n",
      "1107299       1987      2  \n",
      "1107300       1989      1  \n",
      "1107301       1994      1  \n",
      "\n",
      "[1107302 rows x 15 columns]\n"
     ]
    }
   ],
   "source": [
    "df = df.replace('\"','', regex=True)\n",
    "print(df)"
   ]
  },
  {
   "cell_type": "code",
   "execution_count": 89,
   "metadata": {
    "scrolled": true
   },
   "outputs": [],
   "source": [
    "df.to_csv(r'C:\\Users\\ssses\\Desktop\\20. Tableau\\Tableau-challenge\\files\\citibike-tripdata.csv')"
   ]
  }
 ],
 "metadata": {
  "anaconda-cloud": {},
  "kernel_info": {
   "name": "python3"
  },
  "kernelspec": {
   "display_name": "Python 3",
   "language": "python",
   "name": "python3"
  },
  "language_info": {
   "codemirror_mode": {
    "name": "ipython",
    "version": 3
   },
   "file_extension": ".py",
   "mimetype": "text/x-python",
   "name": "python",
   "nbconvert_exporter": "python",
   "pygments_lexer": "ipython3",
   "version": "3.8.5"
  },
  "latex_envs": {
   "LaTeX_envs_menu_present": true,
   "autoclose": false,
   "autocomplete": true,
   "bibliofile": "biblio.bib",
   "cite_by": "apalike",
   "current_citInitial": 1,
   "eqLabelWithNumbers": true,
   "eqNumInitial": 1,
   "hotkeys": {
    "equation": "Ctrl-E",
    "itemize": "Ctrl-I"
   },
   "labels_anchors": false,
   "latex_user_defs": false,
   "report_style_numbering": false,
   "user_envs_cfg": false
  },
  "nteract": {
   "version": "0.2.0"
  }
 },
 "nbformat": 4,
 "nbformat_minor": 2
}
